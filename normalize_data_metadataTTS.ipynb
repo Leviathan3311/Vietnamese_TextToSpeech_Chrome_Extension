{
 "cells": [
  {
   "cell_type": "code",
   "execution_count": null,
   "metadata": {
    "colab": {
     "base_uri": "https://localhost:8080/"
    },
    "id": "zhEZf7pnhVTf",
    "outputId": "4098d86f-5176-4da7-f265-84bf5a42ee39"
   },
   "outputs": [
    {
     "name": "stdout",
     "output_type": "stream",
     "text": [
      "Collecting vinorm\n",
      "  Downloading vinorm-2.0.7-py3-none-any.whl.metadata (2.1 kB)\n",
      "Collecting underthesea\n",
      "  Downloading underthesea-6.8.4-py3-none-any.whl.metadata (15 kB)\n",
      "Requirement already satisfied: Click>=6.0 in /usr/local/lib/python3.10/dist-packages (from underthesea) (8.1.7)\n",
      "Collecting python-crfsuite>=0.9.6 (from underthesea)\n",
      "  Downloading python_crfsuite-0.9.11-cp310-cp310-manylinux_2_17_x86_64.manylinux2014_x86_64.whl.metadata (4.3 kB)\n",
      "Requirement already satisfied: nltk in /usr/local/lib/python3.10/dist-packages (from underthesea) (3.8.1)\n",
      "Requirement already satisfied: tqdm in /usr/local/lib/python3.10/dist-packages (from underthesea) (4.66.6)\n",
      "Requirement already satisfied: requests in /usr/local/lib/python3.10/dist-packages (from underthesea) (2.32.3)\n",
      "Requirement already satisfied: joblib in /usr/local/lib/python3.10/dist-packages (from underthesea) (1.4.2)\n",
      "Requirement already satisfied: scikit-learn in /usr/local/lib/python3.10/dist-packages (from underthesea) (1.5.2)\n",
      "Requirement already satisfied: PyYAML in /usr/local/lib/python3.10/dist-packages (from underthesea) (6.0.2)\n",
      "Collecting underthesea-core==1.0.4 (from underthesea)\n",
      "  Downloading underthesea_core-1.0.4-cp310-cp310-manylinux2010_x86_64.whl.metadata (1.7 kB)\n",
      "Requirement already satisfied: regex>=2021.8.3 in /usr/local/lib/python3.10/dist-packages (from nltk->underthesea) (2024.9.11)\n",
      "Requirement already satisfied: charset-normalizer<4,>=2 in /usr/local/lib/python3.10/dist-packages (from requests->underthesea) (3.4.0)\n",
      "Requirement already satisfied: idna<4,>=2.5 in /usr/local/lib/python3.10/dist-packages (from requests->underthesea) (3.10)\n",
      "Requirement already satisfied: urllib3<3,>=1.21.1 in /usr/local/lib/python3.10/dist-packages (from requests->underthesea) (2.2.3)\n",
      "Requirement already satisfied: certifi>=2017.4.17 in /usr/local/lib/python3.10/dist-packages (from requests->underthesea) (2024.8.30)\n",
      "Requirement already satisfied: numpy>=1.19.5 in /usr/local/lib/python3.10/dist-packages (from scikit-learn->underthesea) (1.26.4)\n",
      "Requirement already satisfied: scipy>=1.6.0 in /usr/local/lib/python3.10/dist-packages (from scikit-learn->underthesea) (1.13.1)\n",
      "Requirement already satisfied: threadpoolctl>=3.1.0 in /usr/local/lib/python3.10/dist-packages (from scikit-learn->underthesea) (3.5.0)\n",
      "Downloading vinorm-2.0.7-py3-none-any.whl (40.4 MB)\n",
      "\u001b[2K   \u001b[90m━━━━━━━━━━━━━━━━━━━━━━━━━━━━━━━━━━━━━━━━\u001b[0m \u001b[32m40.4/40.4 MB\u001b[0m \u001b[31m15.7 MB/s\u001b[0m eta \u001b[36m0:00:00\u001b[0m\n",
      "\u001b[?25hDownloading underthesea-6.8.4-py3-none-any.whl (20.9 MB)\n",
      "\u001b[2K   \u001b[90m━━━━━━━━━━━━━━━━━━━━━━━━━━━━━━━━━━━━━━━━\u001b[0m \u001b[32m20.9/20.9 MB\u001b[0m \u001b[31m24.6 MB/s\u001b[0m eta \u001b[36m0:00:00\u001b[0m\n",
      "\u001b[?25hDownloading underthesea_core-1.0.4-cp310-cp310-manylinux2010_x86_64.whl (657 kB)\n",
      "\u001b[2K   \u001b[90m━━━━━━━━━━━━━━━━━━━━━━━━━━━━━━━━━━━━━━━━\u001b[0m \u001b[32m657.8/657.8 kB\u001b[0m \u001b[31m14.7 MB/s\u001b[0m eta \u001b[36m0:00:00\u001b[0m\n",
      "\u001b[?25hDownloading python_crfsuite-0.9.11-cp310-cp310-manylinux_2_17_x86_64.manylinux2014_x86_64.whl (1.2 MB)\n",
      "\u001b[2K   \u001b[90m━━━━━━━━━━━━━━━━━━━━━━━━━━━━━━━━━━━━━━━━\u001b[0m \u001b[32m1.2/1.2 MB\u001b[0m \u001b[31m20.5 MB/s\u001b[0m eta \u001b[36m0:00:00\u001b[0m\n",
      "\u001b[?25hInstalling collected packages: vinorm, underthesea-core, python-crfsuite, underthesea\n",
      "Successfully installed python-crfsuite-0.9.11 underthesea-6.8.4 underthesea-core-1.0.4 vinorm-2.0.7\n"
     ]
    }
   ],
   "source": [
    "!pip install vinorm underthesea"
   ]
  },
  {
   "cell_type": "code",
   "execution_count": null,
   "metadata": {
    "colab": {
     "base_uri": "https://localhost:8080/"
    },
    "id": "JJIRpklrZK8s",
    "outputId": "5a98b84d-7103-423e-d418-9a668312468c"
   },
   "outputs": [
    {
     "name": "stdout",
     "output_type": "stream",
     "text": [
      "Mounted at /content/drive\n"
     ]
    }
   ],
   "source": [
    "from google.colab import drive\n",
    "drive.mount('/content/drive')"
   ]
  },
  {
   "cell_type": "code",
   "execution_count": null,
   "metadata": {
    "colab": {
     "base_uri": "https://localhost:8080/"
    },
    "id": "MynE6qvK4wOp",
    "outputId": "a913c415-e276-46ce-d8af-ac8cf329d882"
   },
   "outputs": [
    {
     "name": "stdout",
     "output_type": "stream",
     "text": [
      "Processing file: /content/drive/MyDrive/Bản sao datasets/TẤT TẦN TẬT về ĐẦU TƯ CƠ BẢN/metadata.csv\n",
      "Processed and saved: /content/drive/MyDrive/Bản sao datasets/TẤT TẦN TẬT về ĐẦU TƯ CƠ BẢN/metadata.csv\n",
      "Processing file: /content/drive/MyDrive/Bản sao datasets/Cách quản lý tiền bạc - Cơ bản/metadata.csv\n",
      "Processed and saved: /content/drive/MyDrive/Bản sao datasets/Cách quản lý tiền bạc - Cơ bản/metadata.csv\n",
      "Done\n"
     ]
    }
   ],
   "source": [
    "# Code quét qua từng folder con trong datasets và thay đổi trên metadata csv của từng folder con\n",
    "\n",
    "import os\n",
    "import pandas as pd\n",
    "import re\n",
    "from vinorm import TTSnorm\n",
    "from underthesea import word_tokenize\n",
    "\n",
    "def text_cleaning(raw_text):\n",
    "    # Normalize numbers and convert dates to text\n",
    "    normalized_text = TTSnorm(raw_text)\n",
    "\n",
    "    # Convert to lowercase\n",
    "    normalized_text = normalized_text.lower()\n",
    "\n",
    "    # Tokenize the text\n",
    "    normalized_text = word_tokenize(normalized_text, format='text')\n",
    "\n",
    "    # Remove punctuation and extra spaces around periods and question marks\n",
    "    normalized_text = re.sub(r'\\s*\\.\\s*', '.', normalized_text)\n",
    "    normalized_text = re.sub(r'\\s*\\?\\s*', '?', normalized_text)\n",
    "    normalized_text = re.sub(r'[^\\w\\s?.]', '', normalized_text)  # Remove all punctuation except . and ?\n",
    "\n",
    "    # Convert back to string format\n",
    "    normalized_text = ' '.join(normalized_text.split())\n",
    "    return normalized_text\n",
    "\n",
    "def process_all_metadata_files(folder_path):\n",
    "    # Go through each subfolder and check for 'metadata.csv'\n",
    "    for subfolder in os.listdir(folder_path):\n",
    "        subfolder_path = os.path.join(folder_path, subfolder)\n",
    "\n",
    "        if os.path.isdir(subfolder_path):  # Ensure it's a directory\n",
    "            file_path = os.path.join(subfolder_path, 'metadata.csv')\n",
    "\n",
    "            if os.path.exists(file_path):  # Check if 'metadata.csv' exists in the folder\n",
    "                print(f\"Processing file: {file_path}\")\n",
    "\n",
    "                # Read the CSV without headers and specify column names\n",
    "                df = pd.read_csv(file_path, header=None, sep='|', names=['audio_filename', 'raw_text'])\n",
    "\n",
    "                # Apply text cleaning to 'raw_text' and replace the column\n",
    "                df[\"raw_text\"] = df[\"raw_text\"].apply(text_cleaning)\n",
    "\n",
    "                # Save the cleaned file, overwriting the original\n",
    "                df.to_csv(file_path, header=False, sep='|', index=False, encoding='utf-8')\n",
    "                print(f\"Processed and saved: {file_path}\")\n",
    "\n",
    "# Example usage\n",
    "folder_path = r'/content/drive/MyDrive/Bản sao datasets'  # Main directory containing subdirectories\n",
    "process_all_metadata_files(folder_path)\n",
    "print(\"Done\")\n"
   ]
  }
 ],
 "metadata": {
  "accelerator": "GPU",
  "colab": {
   "gpuType": "T4",
   "provenance": []
  },
  "kernelspec": {
   "display_name": "Python 3",
   "name": "python3"
  },
  "language_info": {
   "name": "python"
  }
 },
 "nbformat": 4,
 "nbformat_minor": 0
}
